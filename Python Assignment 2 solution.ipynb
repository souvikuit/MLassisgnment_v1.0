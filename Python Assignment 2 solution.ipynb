{
 "cells": [
  {
   "cell_type": "markdown",
   "metadata": {},
   "source": [
    "1. Write a program which accepts a sequence of comma-separated numbers from console  and generate a list."
   ]
  },
  {
   "cell_type": "code",
   "execution_count": 15,
   "metadata": {},
   "outputs": [
    {
     "name": "stdout",
     "output_type": "stream",
     "text": [
      "Enter a sequence of comma-separated numbers : ,\n",
      "Stored in list :  ['', '']\n"
     ]
    }
   ],
   "source": [
    "ip = input('Enter a sequence of comma-separated numbers : ')\n",
    "if ',' in ip:\n",
    "    listofip=ip.split(\",\")\n",
    "    print('Stored in list : ',listofip)\n",
    "else:\n",
    "    print('Enter value in proper format')"
   ]
  },
  {
   "cell_type": "raw",
   "metadata": {},
   "source": [
    "2.Create the below pattern using nested for loop in Python. \n",
    "* \n",
    "* * \n",
    "* * * \n",
    "* * * * \n",
    "* * * * * \n",
    "* * * * \n",
    "* * * \n",
    "* * \n",
    "* \n"
   ]
  },
  {
   "cell_type": "code",
   "execution_count": 25,
   "metadata": {},
   "outputs": [
    {
     "name": "stdout",
     "output_type": "stream",
     "text": [
      "\r\n",
      "*\r\n",
      "**\r\n",
      "***\r\n",
      "****\r\n",
      "*****\r\n",
      "****\r\n",
      "***\r\n",
      "**\r\n",
      "*\r\n",
      "\r\n"
     ]
    }
   ],
   "source": [
    "for i in range(0,6):\n",
    "    for j in range(0,i):\n",
    "        print('*',end=\"\")\n",
    "    print('\\r')\n",
    "for i in range(0,5):\n",
    "    for j in range(1,5-i):\n",
    "        print('*',end=\"\")\n",
    "    print('\\r')"
   ]
  },
  {
   "cell_type": "markdown",
   "metadata": {},
   "source": [
    "3.Write a Python program to reverse a word after accepting the input from the user. "
   ]
  },
  {
   "cell_type": "code",
   "execution_count": 38,
   "metadata": {},
   "outputs": [
    {
     "name": "stdout",
     "output_type": "stream",
     "text": [
      "Enter the word you want to reverse : ty\n",
      "Reversed word :  yt\n"
     ]
    }
   ],
   "source": [
    "ipword=input('Enter the word you want to reverse : ')\n",
    "if len(ipword) >1 :\n",
    "    print('Reversed word : ',ipword[::-1])\n",
    "else:\n",
    "    print('Input issue. try again. Enter a word which is atleast having >= 2 characters')"
   ]
  }
 ],
 "metadata": {
  "kernelspec": {
   "display_name": "Python 3",
   "language": "python",
   "name": "python3"
  },
  "language_info": {
   "codemirror_mode": {
    "name": "ipython",
    "version": 3
   },
   "file_extension": ".py",
   "mimetype": "text/x-python",
   "name": "python",
   "nbconvert_exporter": "python",
   "pygments_lexer": "ipython3",
   "version": "3.8.5"
  }
 },
 "nbformat": 4,
 "nbformat_minor": 4
}
